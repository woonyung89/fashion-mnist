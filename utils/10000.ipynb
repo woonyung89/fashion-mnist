{
 "cells": [
  {
   "cell_type": "code",
   "execution_count": 1,
   "metadata": {
    "collapsed": true
   },
   "outputs": [],
   "source": [
    "import mnist_reader\n",
    "\n",
    "X_train, y_train = mnist_reader.load_mnist('../data/fashion/', kind='train')\n",
    "X_test, y_test = mnist_reader.load_mnist('../data/fashion', kind='t10k')"
   ]
  },
  {
   "cell_type": "code",
   "execution_count": 2,
   "metadata": {
    "collapsed": true
   },
   "outputs": [],
   "source": [
    "xtrain = X_train.data[:10000]\n",
    "ytrain = y_train.data[:10000]\n",
    "xtest = X_test.data[:10000]\n",
    "ytest= y_test.data[:10000]"
   ]
  },
  {
   "cell_type": "code",
   "execution_count": 3,
   "metadata": {},
   "outputs": [
    {
     "name": "stdout",
     "output_type": "stream",
     "text": [
      "7964\n",
      "10000\n",
      "79.64\n"
     ]
    }
   ],
   "source": [
    "from sklearn import svm\n",
    "s = svm.SVC(kernel = 'linear')\n",
    "s.fit(xtrain, ytrain)\n",
    "import numpy as np\n",
    "predict = s.predict(xtest)\n",
    "correct = np.sum(predict == ytest)\n",
    "total = xtest.shape[0]\n",
    "accuracy = correct/total*100\n",
    "print(correct)\n",
    "print(total)\n",
    "print(accuracy)"
   ]
  },
  {
   "cell_type": "code",
   "execution_count": 24,
   "metadata": {},
   "outputs": [
    {
     "name": "stdout",
     "output_type": "stream",
     "text": [
      "8067\n",
      "10000\n",
      "80.67\n"
     ]
    }
   ],
   "source": [
    "from sklearn.neighbors import KNeighborsClassifier\n",
    "neigh = KNeighborsClassifier(n_neighbors = 20)\n",
    "neigh.fit(xtrain, ytrain)\n",
    "import numpy as np\n",
    "predict = neigh.predict(xtest)\n",
    "correct = np.sum(predict == ytest)\n",
    "total = xtest.shape[0]\n",
    "accuracy = correct/total*100\n",
    "print(correct)\n",
    "print(total)\n",
    "print(accuracy)"
   ]
  },
  {
   "cell_type": "code",
   "execution_count": 4,
   "metadata": {},
   "outputs": [
    {
     "name": "stdout",
     "output_type": "stream",
     "text": [
      "8041\n",
      "10000\n",
      "80.41\n"
     ]
    }
   ],
   "source": [
    "from sklearn.neural_network import MLPClassifier\n",
    "MLP = MLPClassifier(hidden_layer_sizes=(256,128,64))\n",
    "MLP.fit(xtrain, ytrain)\n",
    "import numpy as np\n",
    "predict = MLP.predict(xtest)\n",
    "correct = np.sum(predict == ytest)\n",
    "total = xtest.shape[0]\n",
    "accuracy = correct/total*100\n",
    "print(correct)\n",
    "print(total)\n",
    "print(accuracy)"
   ]
  },
  {
   "cell_type": "code",
   "execution_count": 42,
   "metadata": {},
   "outputs": [
    {
     "data": {
      "text/plain": [
       "DecisionTreeClassifier(class_weight=None, criterion='gini', max_depth=None,\n",
       "            max_features=None, max_leaf_nodes=None,\n",
       "            min_impurity_decrease=0.0, min_impurity_split=None,\n",
       "            min_samples_leaf=1, min_samples_split=2,\n",
       "            min_weight_fraction_leaf=0.0, presort=False, random_state=None,\n",
       "            splitter='best')"
      ]
     },
     "execution_count": 42,
     "metadata": {},
     "output_type": "execute_result"
    }
   ],
   "source": [
    "from sklearn import tree\n",
    "tree = tree.DecisionTreeClassifier()\n",
    "tree.fit(xtrain, ytrain)"
   ]
  },
  {
   "cell_type": "code",
   "execution_count": 38,
   "metadata": {},
   "outputs": [
    {
     "name": "stdout",
     "output_type": "stream",
     "text": [
      "0.7461\n"
     ]
    }
   ],
   "source": [
    "t_predict = tree.predict(X_test)\n",
    "from sklearn.metrics import accuracy_score\n",
    "print(accuracy_score(y_test,t_predict))"
   ]
  },
  {
   "cell_type": "code",
   "execution_count": null,
   "metadata": {
    "collapsed": true
   },
   "outputs": [],
   "source": []
  }
 ],
 "metadata": {
  "kernelspec": {
   "display_name": "Python 3",
   "language": "python",
   "name": "python3"
  },
  "language_info": {
   "codemirror_mode": {
    "name": "ipython",
    "version": 3
   },
   "file_extension": ".py",
   "mimetype": "text/x-python",
   "name": "python",
   "nbconvert_exporter": "python",
   "pygments_lexer": "ipython3",
   "version": "3.6.3"
  }
 },
 "nbformat": 4,
 "nbformat_minor": 2
}
